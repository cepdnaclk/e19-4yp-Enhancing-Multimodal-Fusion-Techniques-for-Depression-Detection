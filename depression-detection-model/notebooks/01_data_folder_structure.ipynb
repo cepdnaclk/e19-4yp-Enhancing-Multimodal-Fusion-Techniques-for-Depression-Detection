{
 "cells": [
  {
   "cell_type": "code",
   "execution_count": 5,
   "id": "b89d36d6-21b8-4e6f-8598-f2de9769e282",
   "metadata": {},
   "outputs": [
    {
     "name": "stdout",
     "output_type": "stream",
     "text": [
      "🗑️ Deleted .wav from root of subject folder: ../data/raw/302_P/302_AUDIO.wav\n",
      "🗑️ Deleted .wav from root of subject folder: ../data/raw/301_P/301_AUDIO.wav\n",
      "✅ Dataset restructuring and cleanup completed.\n"
     ]
    }
   ],
   "source": [
    "import os\n",
    "import shutil\n",
    "\n",
    "# - Summary of what this script does:\n",
    "# - Organizes subject folders in ../data/raw into subfolders: audio, video, text, clinical\n",
    "# - Moves files into the correct subfolder based on keywords\n",
    "# - Copies Transcript CSVs into both text and clinical folders\n",
    "# - Moves feature files to their respective folders and deletes the 'features' folder\n",
    "# - Deletes:\n",
    "#     - Any .wav files directly in subject root\n",
    "\n",
    "RAW_DATA_PATH = '../data/raw'\n",
    "\n",
    "audio_keywords = ['OpenSMILE', 'BoAW', 'MFCC', 'vgg16', 'densenet']\n",
    "video_keywords = ['OpenFace', 'BoVW', 'CNN']\n",
    "text_keywords = ['Transcript']\n",
    "clinical_keywords = ['Transcript']\n",
    "\n",
    "def classify_file(filename):\n",
    "    if any(key in filename for key in audio_keywords):\n",
    "        return 'audio'\n",
    "    elif any(key in filename for key in video_keywords):\n",
    "        return 'video'\n",
    "    elif any(key in filename for key in text_keywords) and filename.endswith('.csv'):\n",
    "        return 'text'\n",
    "    elif any(key in filename for key in clinical_keywords) and filename.endswith('.csv'):\n",
    "        return 'clinical'\n",
    "    return None\n",
    "\n",
    "for subject_dir in os.listdir(RAW_DATA_PATH):\n",
    "    subject_path = os.path.join(RAW_DATA_PATH, subject_dir)\n",
    "    if not os.path.isdir(subject_path):\n",
    "        continue\n",
    "\n",
    "    # 🧹 Delete any .wav file from root of subject folder\n",
    "    for file in os.listdir(subject_path):\n",
    "        file_path = os.path.join(subject_path, file)\n",
    "        if os.path.isfile(file_path) and file.lower().endswith('.wav'):\n",
    "            os.remove(file_path)\n",
    "            print(f\"🗑️ Deleted .wav from root of subject folder: {file_path}\")\n",
    "\n",
    "    # Create subdirectories\n",
    "    for subfolder in ['audio', 'video', 'text', 'clinical']:\n",
    "        os.makedirs(os.path.join(subject_path, subfolder), exist_ok=True)\n",
    "\n",
    "    # Move/copy root-level files\n",
    "    for file in os.listdir(subject_path):\n",
    "        file_path = os.path.join(subject_path, file)\n",
    "        if os.path.isfile(file_path):\n",
    "            target_type = classify_file(file)\n",
    "            if target_type == 'text':\n",
    "                shutil.move(file_path, os.path.join(subject_path, 'text', file))\n",
    "                # Also copy to clinical\n",
    "                shutil.copy(os.path.join(subject_path, 'text', file), os.path.join(subject_path, 'clinical', file))\n",
    "            elif target_type:\n",
    "                shutil.move(file_path, os.path.join(subject_path, target_type, file))\n",
    "\n",
    "    # Move feature files\n",
    "    features_path = os.path.join(subject_path, 'features')\n",
    "    if os.path.exists(features_path):\n",
    "        for root, _, files in os.walk(features_path):\n",
    "            for feature_file in files:\n",
    "                if feature_file == 'processed':\n",
    "                    continue\n",
    "                full_path = os.path.join(root, feature_file)\n",
    "                target_type = classify_file(feature_file)\n",
    "                if target_type:\n",
    "                    shutil.move(full_path, os.path.join(subject_path, target_type, feature_file))\n",
    "        shutil.rmtree(features_path, ignore_errors=True)\n",
    "\n",
    "print(\"✅ Dataset restructuring and cleanup completed.\")\n"
   ]
  },
  {
   "cell_type": "code",
   "execution_count": null,
   "id": "79cde836-6580-44cf-b779-b675559c9343",
   "metadata": {},
   "outputs": [],
   "source": []
  }
 ],
 "metadata": {
  "kernelspec": {
   "display_name": "Python 3 (ipykernel)",
   "language": "python",
   "name": "python3"
  },
  "language_info": {
   "codemirror_mode": {
    "name": "ipython",
    "version": 3
   },
   "file_extension": ".py",
   "mimetype": "text/x-python",
   "name": "python",
   "nbconvert_exporter": "python",
   "pygments_lexer": "ipython3",
   "version": "3.9.23"
  }
 },
 "nbformat": 4,
 "nbformat_minor": 5
}
