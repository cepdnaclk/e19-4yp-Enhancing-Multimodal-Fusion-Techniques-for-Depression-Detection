{
 "cells": [
  {
   "cell_type": "code",
   "execution_count": 3,
   "id": "51c0b6e7-3ed9-461b-ae1e-d3bd36210971",
   "metadata": {
    "scrolled": true
   },
   "outputs": [
    {
     "name": "stdout",
     "output_type": "stream",
     "text": [
      "   clinical_f0  clinical_f1  clinical_f2  clinical_f3  clinical_f4  \\\n",
      "0     0.525162     0.673773     0.267560     0.322613     0.930104   \n",
      "1    -0.607254    -0.749974     0.551444     0.162778    -1.219647   \n",
      "2     0.119814    -0.359332     0.358457    -0.236400     0.107426   \n",
      "3     0.974566     0.674282     0.563673    -0.225339     0.082728   \n",
      "4     0.671426     0.493924     0.326073    -0.397610     0.153739   \n",
      "\n",
      "   clinical_f5  clinical_f6  clinical_f7  clinical_f8  clinical_f9  ...  \\\n",
      "0    -0.113993    -0.391508     0.207020     0.554596    -0.350246  ...   \n",
      "1    -0.001206     0.366103     0.101824     0.063507    -0.201003  ...   \n",
      "2     0.857075     0.894455    -1.210330    -0.880923    -0.670373  ...   \n",
      "3    -0.417215     0.192510     1.818101     1.111454    -0.521585  ...   \n",
      "4    -0.022351    -0.190328     0.972940     0.280787    -0.207952  ...   \n",
      "\n",
      "   audio02_f98  audio02_f99  audio02_f100       age  gender_male  Start_Time  \\\n",
      "0    -0.420073     0.513532      1.224791  1.172604            0         0.8   \n",
      "1    -0.420073    -0.559250      2.010453  1.172604            0        41.9   \n",
      "2    -0.420073    -1.633180      0.986673  1.172604            0        52.9   \n",
      "3    -0.420073    -0.052173      1.989109  1.172604            0        59.7   \n",
      "4    -0.420073    -1.633180      1.418977  1.172604            0        63.4   \n",
      "\n",
      "   End_Time  user_id  Depression_label  split  \n",
      "0       7.0    301_P                 0    dev  \n",
      "1      42.5    301_P                 0    dev  \n",
      "2      55.8    301_P                 0    dev  \n",
      "3      60.7    301_P                 0    dev  \n",
      "4      64.2    301_P                 0    dev  \n",
      "\n",
      "[5 rows x 1705 columns]\n",
      "Index(['clinical_f0', 'clinical_f1', 'clinical_f2', 'clinical_f3',\n",
      "       'clinical_f4', 'clinical_f5', 'clinical_f6', 'clinical_f7',\n",
      "       'clinical_f8', 'clinical_f9',\n",
      "       ...\n",
      "       'audio02_f98', 'audio02_f99', 'audio02_f100', 'age', 'gender_male',\n",
      "       'Start_Time', 'End_Time', 'user_id', 'Depression_label', 'split'],\n",
      "      dtype='object', length=1705)\n",
      "split\n",
      "train    99\n",
      "dev      72\n",
      "Name: count, dtype: int64\n"
     ]
    }
   ],
   "source": [
    "import pandas as pd\n",
    "df = pd.read_parquet(\"../data/processed/all_user_combined_data_processed.parquet\")\n",
    "\n",
    "print(df.head())\n",
    "print(df.columns)\n",
    "print(df['split'].value_counts())"
   ]
  },
  {
   "cell_type": "code",
   "execution_count": 4,
   "id": "486ecbe8-c119-4a27-9669-784a069f6b93",
   "metadata": {},
   "outputs": [
    {
     "name": "stdout",
     "output_type": "stream",
     "text": [
      "Train samples: 99\n",
      "Dev samples: 72\n",
      "Test samples: 0\n"
     ]
    }
   ],
   "source": [
    "# Separate data by split\n",
    "train_df = df[df['split'] == 'train']\n",
    "dev_df = df[df['split'] == 'dev']\n",
    "test_df = df[df['split'] == 'test']\n",
    "\n",
    "print(f\"Train samples: {len(train_df)}\")\n",
    "print(f\"Dev samples: {len(dev_df)}\")\n",
    "print(f\"Test samples: {len(test_df)}\")"
   ]
  },
  {
   "cell_type": "code",
   "execution_count": 6,
   "id": "ae566452-e11d-4964-b1fc-a4dee10314ea",
   "metadata": {},
   "outputs": [],
   "source": [
    "target_col = 'Depression_label'\n",
    "\n",
    "clinical_cols = [col for col in df.columns if col.startswith('clinical_')]\n",
    "audio_cols = [col for col in df.columns if col.startswith('audio')]\n",
    "video_cols = [col for col in df.columns if col.startswith('video')]\n",
    "text_cols = [col for col in df.columns if col.startswith('text')]\n",
    "demo_cols = ['age', 'gender_male']\n",
    "\n",
    "feature_cols = clinical_cols + audio_cols + video_cols + text_cols + demo_cols\n",
    "\n",
    "# Now you can safely use target_col here:\n",
    "X_train = train_df[feature_cols]\n",
    "y_train = train_df[target_col]\n",
    "\n",
    "X_dev = dev_df[feature_cols]\n",
    "y_dev = dev_df[target_col]\n",
    "\n",
    "X_test = test_df[feature_cols]\n",
    "y_test = test_df[target_col]\n",
    "\n"
   ]
  },
  {
   "cell_type": "code",
   "execution_count": 13,
   "id": "2de93f5c-7ecf-42ac-b547-96e8c677b781",
   "metadata": {},
   "outputs": [
    {
     "name": "stdout",
     "output_type": "stream",
     "text": [
      "(99, 1700)\n",
      "(99,)\n",
      "(72, 1700)\n",
      "(72,)\n",
      "(0, 1700)\n",
      "(0,)\n"
     ]
    }
   ],
   "source": [
    "print(X_train.shape)\n",
    "print(y_train.shape)\n",
    "print(X_dev.shape)\n",
    "print(y_dev.shape)\n",
    "print(X_test.shape)\n",
    "print(y_test.shape)"
   ]
  },
  {
   "cell_type": "code",
   "execution_count": 14,
   "id": "066a7afd-5777-4865-a6a6-ca3b348c9052",
   "metadata": {},
   "outputs": [],
   "source": [
    "import torch\n",
    "import torch.nn as nn\n",
    "import torch.optim as optim\n",
    "from sklearn.metrics import accuracy_score\n",
    "from torch.utils.data import TensorDataset, DataLoader\n",
    "\n",
    "# Convert numpy arrays or pandas to tensors\n",
    "X_train_tensor = torch.tensor(X_train.values, dtype=torch.float32)\n",
    "y_train_tensor = torch.tensor(y_train.values, dtype=torch.float32)\n",
    "\n",
    "X_dev_tensor = torch.tensor(X_dev.values, dtype=torch.float32)\n",
    "y_dev_tensor = torch.tensor(y_dev.values, dtype=torch.float32)\n",
    "\n",
    "X_test_tensor = torch.tensor(X_test.values, dtype=torch.float32)\n",
    "y_test_tensor = torch.tensor(y_test.values, dtype=torch.float32)\n",
    "\n",
    "# Create DataLoader\n",
    "train_dataset = TensorDataset(X_train_tensor, y_train_tensor)\n",
    "dev_dataset = TensorDataset(X_dev_tensor, y_dev_tensor)\n",
    "test_dataset = TensorDataset(X_test_tensor, y_test_tensor)\n",
    "\n",
    "train_loader = DataLoader(train_dataset, batch_size=64, shuffle=True)\n",
    "dev_loader = DataLoader(dev_dataset, batch_size=64)\n",
    "test_loader = DataLoader(test_dataset, batch_size=64)\n"
   ]
  },
  {
   "cell_type": "code",
   "execution_count": 15,
   "id": "864f3704-4134-4287-a3d6-0e21e3bfe1a1",
   "metadata": {},
   "outputs": [],
   "source": [
    "class MLP(nn.Module):\n",
    "    def __init__(self, input_dim):\n",
    "        super(MLP, self).__init__()\n",
    "        self.network = nn.Sequential(\n",
    "            nn.Linear(input_dim, 256),\n",
    "            nn.ReLU(),\n",
    "            nn.Dropout(0.3),\n",
    "            nn.Linear(256, 64),\n",
    "            nn.ReLU(),\n",
    "            nn.Dropout(0.3),\n",
    "            nn.Linear(64, 1),\n",
    "            nn.Sigmoid()  # Output for binary classification\n",
    "        )\n",
    "\n",
    "    def forward(self, x):\n",
    "        return self.network(x)\n"
   ]
  },
  {
   "cell_type": "code",
   "execution_count": 16,
   "id": "a70c20c1-fdb6-4e10-8dfd-52e799eac17d",
   "metadata": {},
   "outputs": [
    {
     "name": "stdout",
     "output_type": "stream",
     "text": [
      "Epoch 1, Loss: 1.1154\n",
      "Epoch 2, Loss: 0.6080\n",
      "Epoch 3, Loss: 0.2444\n",
      "Epoch 4, Loss: 0.0924\n",
      "Epoch 5, Loss: 0.0292\n",
      "Epoch 6, Loss: 0.0101\n",
      "Epoch 7, Loss: 0.0026\n",
      "Epoch 8, Loss: 0.0020\n",
      "Epoch 9, Loss: 0.0005\n",
      "Epoch 10, Loss: 0.0002\n",
      "Epoch 11, Loss: 0.0001\n",
      "Epoch 12, Loss: 0.0000\n",
      "Epoch 13, Loss: 0.0000\n",
      "Epoch 14, Loss: 0.0000\n",
      "Epoch 15, Loss: 0.0000\n",
      "Epoch 16, Loss: 0.0000\n",
      "Epoch 17, Loss: 0.0000\n",
      "Epoch 18, Loss: 0.0000\n",
      "Epoch 19, Loss: 0.0000\n",
      "Epoch 20, Loss: 0.0000\n"
     ]
    }
   ],
   "source": [
    "device = torch.device('cuda' if torch.cuda.is_available() else 'cpu')\n",
    "\n",
    "model = MLP(input_dim=X_train.shape[1]).to(device)\n",
    "criterion = nn.BCELoss()\n",
    "optimizer = optim.Adam(model.parameters(), lr=0.001)\n",
    "\n",
    "num_epochs = 20\n",
    "\n",
    "for epoch in range(num_epochs):\n",
    "    model.train()\n",
    "    total_loss = 0\n",
    "    for X_batch, y_batch in train_loader:\n",
    "        X_batch, y_batch = X_batch.to(device), y_batch.to(device).unsqueeze(1)\n",
    "\n",
    "        optimizer.zero_grad()\n",
    "        outputs = model(X_batch)\n",
    "        loss = criterion(outputs, y_batch)\n",
    "        loss.backward()\n",
    "        optimizer.step()\n",
    "\n",
    "        total_loss += loss.item()\n",
    "\n",
    "    print(f\"Epoch {epoch+1}, Loss: {total_loss:.4f}\")\n"
   ]
  },
  {
   "cell_type": "code",
   "execution_count": 17,
   "id": "fea5bafb-2700-48df-a160-2dc49a6474d5",
   "metadata": {},
   "outputs": [
    {
     "name": "stdout",
     "output_type": "stream",
     "text": [
      "Test Accuracy: nan\n"
     ]
    },
    {
     "name": "stderr",
     "output_type": "stream",
     "text": [
      "/opt/anaconda3/envs/depression-nlp-fyp/lib/python3.9/site-packages/numpy/lib/_function_base_impl.py:557: RuntimeWarning: Mean of empty slice.\n",
      "  avg = a.mean(axis, **keepdims_kw)\n",
      "/opt/anaconda3/envs/depression-nlp-fyp/lib/python3.9/site-packages/numpy/_core/_methods.py:138: RuntimeWarning: invalid value encountered in scalar divide\n",
      "  ret = ret.dtype.type(ret / rcount)\n"
     ]
    }
   ],
   "source": [
    "model.eval()\n",
    "all_preds = []\n",
    "\n",
    "with torch.no_grad():\n",
    "    for X_batch, _ in test_loader:\n",
    "        X_batch = X_batch.to(device)\n",
    "        preds = model(X_batch)\n",
    "        all_preds.extend(preds.cpu().numpy())\n",
    "\n",
    "# Convert probabilities to class labels\n",
    "y_pred = [1 if p >= 0.5 else 0 for p in all_preds]\n",
    "acc = accuracy_score(y_test, y_pred)\n",
    "print(f\"Test Accuracy: {acc:.4f}\")\n"
   ]
  },
  {
   "cell_type": "code",
   "execution_count": null,
   "id": "27d03c8e-b07a-47e9-a8f2-6afdafc7a0e2",
   "metadata": {},
   "outputs": [],
   "source": []
  }
 ],
 "metadata": {
  "kernelspec": {
   "display_name": "Python 3 (ipykernel)",
   "language": "python",
   "name": "python3"
  },
  "language_info": {
   "codemirror_mode": {
    "name": "ipython",
    "version": 3
   },
   "file_extension": ".py",
   "mimetype": "text/x-python",
   "name": "python",
   "nbconvert_exporter": "python",
   "pygments_lexer": "ipython3",
   "version": "3.9.23"
  }
 },
 "nbformat": 4,
 "nbformat_minor": 5
}
